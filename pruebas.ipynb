{
 "cells": [
  {
   "cell_type": "code",
   "execution_count": 1,
   "id": "5e33f42c",
   "metadata": {},
   "outputs": [],
   "source": [
    "import polars as pl"
   ]
  },
  {
   "cell_type": "code",
   "execution_count": 2,
   "id": "f8c2d2f9",
   "metadata": {},
   "outputs": [
    {
     "data": {
      "text/html": [
       "<div><style>\n",
       ".dataframe > thead > tr,\n",
       ".dataframe > tbody > tr {\n",
       "  text-align: right;\n",
       "  white-space: pre-wrap;\n",
       "}\n",
       "</style>\n",
       "<small>shape: (10, 6)</small><table border=\"1\" class=\"dataframe\"><thead><tr><th>DOI</th><th>Title</th><th>Authors</th><th>Abstract</th><th>Section</th><th>Date</th></tr><tr><td>str</td><td>str</td><td>str</td><td>str</td><td>str</td><td>str</td></tr></thead><tbody><tr><td>&quot;10.48550/arXiv.2509.15148&quot;</td><td>&quot;A1: Asynchronous Test-Time Sca…</td><td>&quot;Jing Xiong, Qiujiang Chen, Fan…</td><td>&quot;Large language models (LLMs) b…</td><td>&quot;Computation and Language&quot;</td><td>&quot;18/09/2025&quot;</td></tr><tr><td>&quot;10.48550/arXiv.2509.12979&quot;</td><td>&quot;Universal share based quantum …</td><td>&quot;Dipak K. Rabari, Yogesh K. Meg…</td><td>&quot;Image security for information…</td><td>&quot;Cryptography and Security&quot;</td><td>&quot;16/09/2025&quot;</td></tr><tr><td>&quot;10.48550/arXiv.2509.15602&quot;</td><td>&quot;TennisTV: Do Multimodal Large …</td><td>&quot;Zhongyuan Bao, Lejun Zhang&quot;</td><td>&quot;Multimodal large language mode…</td><td>&quot;Computer Vision and Pattern Re…</td><td>&quot;19/09/2025&quot;</td></tr><tr><td>&quot;10.48550/arXiv.2509.16025&quot;</td><td>&quot;Session-Level Spoken Language …</td><td>&quot;Hong-Yun Lin, Jhen-Ke Lin, Chu…</td><td>&quot;Spoken Language Assessment (SL…</td><td>&quot;Computation and Language&quot;</td><td>&quot;19/09/2025&quot;</td></tr><tr><td>&quot;10.48550/arXiv.2509.15984&quot;</td><td>&quot;CoPAD : Multi-source Trajector…</td><td>&quot;Kangyu Wu, Jiaqi Qiao, Ya Zhan…</td><td>&quot;Recently, data-driven trajecto…</td><td>&quot;Computer Vision and Pattern Re…</td><td>&quot;19/09/2025&quot;</td></tr><tr><td>&quot;10.48550/arXiv.2509.15553&quot;</td><td>&quot;Diffusion-Based Cross-Modal Fe…</td><td>&quot;Tian Lan, Yiming Zheng, Jianxi…</td><td>&quot;Multi-label classification has…</td><td>&quot;Computer Vision and Pattern Re…</td><td>&quot;19/09/2025&quot;</td></tr><tr><td>&quot;10.48550/arXiv.2509.13021&quot;</td><td>&quot;xOffense: An AI-driven autonom…</td><td>&quot;Phung Duc Luong, Le Tran Gia B…</td><td>&quot;Penetration testing (pentest) …</td><td>&quot;Cryptography and Security&quot;</td><td>&quot;16/09/2025&quot;</td></tr><tr><td>&quot;10.48550/arXiv.2509.13046&quot;</td><td>&quot;MIA-EPT: Membership Inference …</td><td>&quot;Eyal German, Daniel Samira, Yu…</td><td>&quot;Synthetic data generation play…</td><td>&quot;Cryptography and Security&quot;</td><td>&quot;16/09/2025&quot;</td></tr><tr><td>&quot;10.48550/arXiv.2509.15563&quot;</td><td>&quot;DC-Mamba: Bi-temporal deformab…</td><td>&quot;Min Sun, Fenghui Guo&quot;</td><td>&quot;Remote sensing change detectio…</td><td>&quot;Computer Vision and Pattern Re…</td><td>&quot;19/09/2025&quot;</td></tr><tr><td>&quot;10.48550/arXiv.2509.14754&quot;</td><td>&quot;Variables Ordering Optimizatio…</td><td>&quot;Minzhong Luo, Yudong Sun, Yin …</td><td>&quot;Solving systems of Boolean equ…</td><td>&quot;Cryptography and Security&quot;</td><td>&quot;18/09/2025&quot;</td></tr></tbody></table></div>"
      ],
      "text/plain": [
       "shape: (10, 6)\n",
       "┌─────────────────┬────────────────┬────────────────┬────────────────┬────────────────┬────────────┐\n",
       "│ DOI             ┆ Title          ┆ Authors        ┆ Abstract       ┆ Section        ┆ Date       │\n",
       "│ ---             ┆ ---            ┆ ---            ┆ ---            ┆ ---            ┆ ---        │\n",
       "│ str             ┆ str            ┆ str            ┆ str            ┆ str            ┆ str        │\n",
       "╞═════════════════╪════════════════╪════════════════╪════════════════╪════════════════╪════════════╡\n",
       "│ 10.48550/arXiv. ┆ A1:            ┆ Jing Xiong,    ┆ Large language ┆ Computation    ┆ 18/09/2025 │\n",
       "│ 2509.15148      ┆ Asynchronous   ┆ Qiujiang Chen, ┆ models (LLMs)  ┆ and Language   ┆            │\n",
       "│                 ┆ Test-Time Sca… ┆ Fan…           ┆ b…             ┆                ┆            │\n",
       "│ 10.48550/arXiv. ┆ Universal      ┆ Dipak K.       ┆ Image security ┆ Cryptography   ┆ 16/09/2025 │\n",
       "│ 2509.12979      ┆ share based    ┆ Rabari, Yogesh ┆ for            ┆ and Security   ┆            │\n",
       "│                 ┆ quantum …      ┆ K. Meg…        ┆ information…   ┆                ┆            │\n",
       "│ 10.48550/arXiv. ┆ TennisTV: Do   ┆ Zhongyuan Bao, ┆ Multimodal     ┆ Computer       ┆ 19/09/2025 │\n",
       "│ 2509.15602      ┆ Multimodal     ┆ Lejun Zhang    ┆ large language ┆ Vision and     ┆            │\n",
       "│                 ┆ Large …        ┆                ┆ mode…          ┆ Pattern Re…    ┆            │\n",
       "│ 10.48550/arXiv. ┆ Session-Level  ┆ Hong-Yun Lin,  ┆ Spoken         ┆ Computation    ┆ 19/09/2025 │\n",
       "│ 2509.16025      ┆ Spoken         ┆ Jhen-Ke Lin,   ┆ Language       ┆ and Language   ┆            │\n",
       "│                 ┆ Language …     ┆ Chu…           ┆ Assessment     ┆                ┆            │\n",
       "│                 ┆                ┆                ┆ (SL…           ┆                ┆            │\n",
       "│ 10.48550/arXiv. ┆ CoPAD :        ┆ Kangyu Wu,     ┆ Recently,      ┆ Computer       ┆ 19/09/2025 │\n",
       "│ 2509.15984      ┆ Multi-source   ┆ Jiaqi Qiao, Ya ┆ data-driven    ┆ Vision and     ┆            │\n",
       "│                 ┆ Trajector…     ┆ Zhan…          ┆ trajecto…      ┆ Pattern Re…    ┆            │\n",
       "│ 10.48550/arXiv. ┆ Diffusion-Base ┆ Tian Lan,      ┆ Multi-label    ┆ Computer       ┆ 19/09/2025 │\n",
       "│ 2509.15553      ┆ d Cross-Modal  ┆ Yiming Zheng,  ┆ classification ┆ Vision and     ┆            │\n",
       "│                 ┆ Fe…            ┆ Jianxi…        ┆ has…           ┆ Pattern Re…    ┆            │\n",
       "│ 10.48550/arXiv. ┆ xOffense: An   ┆ Phung Duc      ┆ Penetration    ┆ Cryptography   ┆ 16/09/2025 │\n",
       "│ 2509.13021      ┆ AI-driven      ┆ Luong, Le Tran ┆ testing        ┆ and Security   ┆            │\n",
       "│                 ┆ autonom…       ┆ Gia B…         ┆ (pentest) …    ┆                ┆            │\n",
       "│ 10.48550/arXiv. ┆ MIA-EPT:       ┆ Eyal German,   ┆ Synthetic data ┆ Cryptography   ┆ 16/09/2025 │\n",
       "│ 2509.13046      ┆ Membership     ┆ Daniel Samira, ┆ generation     ┆ and Security   ┆            │\n",
       "│                 ┆ Inference …    ┆ Yu…            ┆ play…          ┆                ┆            │\n",
       "│ 10.48550/arXiv. ┆ DC-Mamba:      ┆ Min Sun,       ┆ Remote sensing ┆ Computer       ┆ 19/09/2025 │\n",
       "│ 2509.15563      ┆ Bi-temporal    ┆ Fenghui Guo    ┆ change         ┆ Vision and     ┆            │\n",
       "│                 ┆ deformab…      ┆                ┆ detectio…      ┆ Pattern Re…    ┆            │\n",
       "│ 10.48550/arXiv. ┆ Variables      ┆ Minzhong Luo,  ┆ Solving        ┆ Cryptography   ┆ 18/09/2025 │\n",
       "│ 2509.14754      ┆ Ordering       ┆ Yudong Sun,    ┆ systems of     ┆ and Security   ┆            │\n",
       "│                 ┆ Optimizatio…   ┆ Yin …          ┆ Boolean equ…   ┆                ┆            │\n",
       "└─────────────────┴────────────────┴────────────────┴────────────────┴────────────────┴────────────┘"
      ]
     },
     "metadata": {},
     "output_type": "display_data"
    },
    {
     "data": {
      "text/plain": [
       "(300, 6)"
      ]
     },
     "metadata": {},
     "output_type": "display_data"
    },
    {
     "data": {
      "text/html": [
       "<div><style>\n",
       ".dataframe > thead > tr,\n",
       ".dataframe > tbody > tr {\n",
       "  text-align: right;\n",
       "  white-space: pre-wrap;\n",
       "}\n",
       "</style>\n",
       "<small>shape: (3, 2)</small><table border=\"1\" class=\"dataframe\"><thead><tr><th>Section</th><th>len</th></tr><tr><td>str</td><td>u32</td></tr></thead><tbody><tr><td>&quot;Cryptography and Security&quot;</td><td>100</td></tr><tr><td>&quot;Computation and Language&quot;</td><td>100</td></tr><tr><td>&quot;Computer Vision and Pattern Re…</td><td>100</td></tr></tbody></table></div>"
      ],
      "text/plain": [
       "shape: (3, 2)\n",
       "┌─────────────────────────────────┬─────┐\n",
       "│ Section                         ┆ len │\n",
       "│ ---                             ┆ --- │\n",
       "│ str                             ┆ u32 │\n",
       "╞═════════════════════════════════╪═════╡\n",
       "│ Cryptography and Security       ┆ 100 │\n",
       "│ Computation and Language        ┆ 100 │\n",
       "│ Computer Vision and Pattern Re… ┆ 100 │\n",
       "└─────────────────────────────────┴─────┘"
      ]
     },
     "metadata": {},
     "output_type": "display_data"
    },
    {
     "data": {
      "text/html": [
       "<div><style>\n",
       ".dataframe > thead > tr,\n",
       ".dataframe > tbody > tr {\n",
       "  text-align: right;\n",
       "  white-space: pre-wrap;\n",
       "}\n",
       "</style>\n",
       "<small>shape: (1, 6)</small><table border=\"1\" class=\"dataframe\"><thead><tr><th>DOI</th><th>Title</th><th>Authors</th><th>Abstract</th><th>Section</th><th>Date</th></tr><tr><td>u32</td><td>u32</td><td>u32</td><td>u32</td><td>u32</td><td>u32</td></tr></thead><tbody><tr><td>0</td><td>0</td><td>0</td><td>0</td><td>0</td><td>0</td></tr></tbody></table></div>"
      ],
      "text/plain": [
       "shape: (1, 6)\n",
       "┌─────┬───────┬─────────┬──────────┬─────────┬──────┐\n",
       "│ DOI ┆ Title ┆ Authors ┆ Abstract ┆ Section ┆ Date │\n",
       "│ --- ┆ ---   ┆ ---     ┆ ---      ┆ ---     ┆ ---  │\n",
       "│ u32 ┆ u32   ┆ u32     ┆ u32      ┆ u32     ┆ u32  │\n",
       "╞═════╪═══════╪═════════╪══════════╪═════════╪══════╡\n",
       "│ 0   ┆ 0     ┆ 0       ┆ 0        ┆ 0       ┆ 0    │\n",
       "└─────┴───────┴─────────┴──────────┴─────────┴──────┘"
      ]
     },
     "metadata": {},
     "output_type": "display_data"
    }
   ],
   "source": [
    "df_arxiv = pl.read_csv(source=\"arxiv_raw_corpus.csv\", separator=\"\\t\")\n",
    "\n",
    "display(df_arxiv.sample(n=10))\n",
    "display(df_arxiv.shape)\n",
    "display(df_arxiv.group_by(\"Section\").len())\n",
    "display(df_arxiv.null_count())"
   ]
  },
  {
   "cell_type": "code",
   "execution_count": 43,
   "id": "988462ab",
   "metadata": {},
   "outputs": [
    {
     "data": {
      "text/html": [
       "<div><style>\n",
       ".dataframe > thead > tr,\n",
       ".dataframe > tbody > tr {\n",
       "  text-align: right;\n",
       "  white-space: pre-wrap;\n",
       "}\n",
       "</style>\n",
       "<small>shape: (10, 6)</small><table border=\"1\" class=\"dataframe\"><thead><tr><th>DOI</th><th>Title</th><th>Authors</th><th>Abstract</th><th>Journal</th><th>Date</th></tr><tr><td>str</td><td>str</td><td>str</td><td>str</td><td>str</td><td>str</td></tr></thead><tbody><tr><td>&quot;10.1002/advs.202504138&quot;</td><td>&quot;Adamts1 Exacerbates Post-Myoca…</td><td>&quot;Kong CY, Guo Z, Ma YL, Wang MY…</td><td>&quot;-Myocardial infarction (MI) re…</td><td>&quot;Advanced science (Weinheim, Ba…</td><td>&quot;2025 Sep 27&quot;</td></tr><tr><td>&quot;10.1038/s41392-025-02391-9&quot;</td><td>&quot;Ninjurin-1 mediates cell lysis…</td><td>&quot;Xu Y, Zheng Y, Liu Y, Wei C, R…</td><td>&quot;Influenza A virus (IAV) induce…</td><td>&quot;Signal transduction and target…</td><td>&quot;2025 Sep 23&quot;</td></tr><tr><td>&quot;10.3390/molecules30183814&quot;</td><td>&quot;The Efficacy of Melatonergic R…</td><td>&quot;Żełabowski K, Pichowicz W, Sko…</td><td>&quot;Insomnia is a common and compl…</td><td>&quot;Molecules (Basel, Switzerland)&quot;</td><td>&quot;2025 Sep 19&quot;</td></tr><tr><td>&quot;10.1016/j.jacc.2025.08.047&quot;</td><td>&quot;Inflammation and Cardiovascula…</td><td>&quot;Mensah GA, Arnold N, Prabhu SD…</td><td>&quot;The crucial role of inflammati…</td><td>&quot;Journal of the American Colleg…</td><td>&quot;2025 Sep 29&quot;</td></tr><tr><td>&quot;10.3390/ijms26189044&quot;</td><td>&quot;Gulf War Illness, Fibromyalgia…</td><td>&quot;Mantle D, Domingo JC, Golomb B…</td><td>&quot;Although Gulf War Illness (GWI…</td><td>&quot;International journal of molec…</td><td>&quot;2025 Sep 17&quot;</td></tr><tr><td>&quot;10.1016/j.ijid.2025.108089&quot;</td><td>&quot;Explosive Chikungunya Virus Ou…</td><td>&quot;Tee KK, Mu D, Xia X&quot;</td><td>&quot;BACKGROUND: Chikungunya virus …</td><td>&quot;International journal of infec…</td><td>&quot;2025 Sep 26&quot;</td></tr><tr><td>&quot;10.1038/s41575-025-01120-5&quot;</td><td>&quot;Clinical trial design, biomark…</td><td>&quot;Diaz LA, Thiele M, Louvet A, L…</td><td>&quot;Metabolic and alcohol-related …</td><td>&quot;Nature reviews. Gastroenterolo…</td><td>&quot;2025 Sep 26&quot;</td></tr><tr><td>&quot;10.1126/sciadv.adw9275&quot;</td><td>&quot;Reinforced plant-derived lipid…</td><td>&quot;Gao Q, Gao Y, Cao Y, Xu H, Ma …</td><td>&quot;The clinical application of CR…</td><td>&quot;Science advances&quot;</td><td>&quot;2025 Sep 26&quot;</td></tr><tr><td>&quot;10.1002/14651858.CD016131&quot;</td><td>&quot;Efficacy and safety of respira…</td><td>&quot;Saif-Ur-Rahman KM, King C, Whe…</td><td>&quot;RATIONALE: Respiratory syncyti…</td><td>&quot;The Cochrane database of syste…</td><td>&quot;2025 Sep 29&quot;</td></tr><tr><td>&quot;10.1186/s13075-025-03647-z&quot;</td><td>&quot;The Glycolysis-HIF-1α axis ind…</td><td>&quot;Jia Y, Li R, Huang L, Wu X, Zh…</td><td>&quot;BACKGROUND: Rheumatoid arthrit…</td><td>&quot;Arthritis research &amp; therapy&quot;</td><td>&quot;2025 Sep 26&quot;</td></tr></tbody></table></div>"
      ],
      "text/plain": [
       "shape: (10, 6)\n",
       "┌────────────────┬────────────────┬────────────────┬────────────────┬────────────────┬─────────────┐\n",
       "│ DOI            ┆ Title          ┆ Authors        ┆ Abstract       ┆ Journal        ┆ Date        │\n",
       "│ ---            ┆ ---            ┆ ---            ┆ ---            ┆ ---            ┆ ---         │\n",
       "│ str            ┆ str            ┆ str            ┆ str            ┆ str            ┆ str         │\n",
       "╞════════════════╪════════════════╪════════════════╪════════════════╪════════════════╪═════════════╡\n",
       "│ 10.1002/advs.2 ┆ Adamts1        ┆ Kong CY, Guo   ┆ -Myocardial    ┆ Advanced       ┆ 2025 Sep 27 │\n",
       "│ 02504138       ┆ Exacerbates    ┆ Z, Ma YL, Wang ┆ infarction     ┆ science        ┆             │\n",
       "│                ┆ Post-Myoca…    ┆ MY…            ┆ (MI) re…       ┆ (Weinheim, Ba… ┆             │\n",
       "│ 10.1038/s41392 ┆ Ninjurin-1     ┆ Xu Y, Zheng Y, ┆ Influenza A    ┆ Signal         ┆ 2025 Sep 23 │\n",
       "│ -025-02391-9   ┆ mediates cell  ┆ Liu Y, Wei C,  ┆ virus (IAV)    ┆ transduction   ┆             │\n",
       "│                ┆ lysis…         ┆ R…             ┆ induce…        ┆ and target…    ┆             │\n",
       "│ 10.3390/molecu ┆ The Efficacy   ┆ Żełabowski K,  ┆ Insomnia is a  ┆ Molecules      ┆ 2025 Sep 19 │\n",
       "│ les30183814    ┆ of             ┆ Pichowicz W,   ┆ common and     ┆ (Basel,        ┆             │\n",
       "│                ┆ Melatonergic   ┆ Sko…           ┆ compl…         ┆ Switzerland)   ┆             │\n",
       "│                ┆ R…             ┆                ┆                ┆                ┆             │\n",
       "│ 10.1016/j.jacc ┆ Inflammation   ┆ Mensah GA,     ┆ The crucial    ┆ Journal of the ┆ 2025 Sep 29 │\n",
       "│ .2025.08.047   ┆ and            ┆ Arnold N,      ┆ role of        ┆ American       ┆             │\n",
       "│                ┆ Cardiovascula… ┆ Prabhu SD…     ┆ inflammati…    ┆ Colleg…        ┆             │\n",
       "│ 10.3390/ijms26 ┆ Gulf War       ┆ Mantle D,      ┆ Although Gulf  ┆ International  ┆ 2025 Sep 17 │\n",
       "│ 189044         ┆ Illness,       ┆ Domingo JC,    ┆ War Illness    ┆ journal of     ┆             │\n",
       "│                ┆ Fibromyalgia…  ┆ Golomb B…      ┆ (GWI…          ┆ molec…         ┆             │\n",
       "│ 10.1016/j.ijid ┆ Explosive      ┆ Tee KK, Mu D,  ┆ BACKGROUND:    ┆ International  ┆ 2025 Sep 26 │\n",
       "│ .2025.108089   ┆ Chikungunya    ┆ Xia X          ┆ Chikungunya    ┆ journal of     ┆             │\n",
       "│                ┆ Virus Ou…      ┆                ┆ virus …        ┆ infec…         ┆             │\n",
       "│ 10.1038/s41575 ┆ Clinical trial ┆ Diaz LA,       ┆ Metabolic and  ┆ Nature         ┆ 2025 Sep 26 │\n",
       "│ -025-01120-5   ┆ design,        ┆ Thiele M,      ┆ alcohol-relate ┆ reviews. Gastr ┆             │\n",
       "│                ┆ biomark…       ┆ Louvet A, L…   ┆ d …            ┆ oenterolo…     ┆             │\n",
       "│ 10.1126/sciadv ┆ Reinforced     ┆ Gao Q, Gao Y,  ┆ The clinical   ┆ Science        ┆ 2025 Sep 26 │\n",
       "│ .adw9275       ┆ plant-derived  ┆ Cao Y, Xu H,   ┆ application of ┆ advances       ┆             │\n",
       "│                ┆ lipid…         ┆ Ma …           ┆ CR…            ┆                ┆             │\n",
       "│ 10.1002/146518 ┆ Efficacy and   ┆ Saif-Ur-Rahman ┆ RATIONALE:     ┆ The Cochrane   ┆ 2025 Sep 29 │\n",
       "│ 58.CD016131    ┆ safety of      ┆ KM, King C,    ┆ Respiratory    ┆ database of    ┆             │\n",
       "│                ┆ respira…       ┆ Whe…           ┆ syncyti…       ┆ syste…         ┆             │\n",
       "│ 10.1186/s13075 ┆ The Glycolysis ┆ Jia Y, Li R,   ┆ BACKGROUND:    ┆ Arthritis      ┆ 2025 Sep 26 │\n",
       "│ -025-03647-z   ┆ -HIF-1α axis   ┆ Huang L, Wu X, ┆ Rheumatoid     ┆ research &     ┆             │\n",
       "│                ┆ ind…           ┆ Zh…            ┆ arthrit…       ┆ therapy        ┆             │\n",
       "└────────────────┴────────────────┴────────────────┴────────────────┴────────────────┴─────────────┘"
      ]
     },
     "metadata": {},
     "output_type": "display_data"
    },
    {
     "data": {
      "text/plain": [
       "(300, 6)"
      ]
     },
     "metadata": {},
     "output_type": "display_data"
    },
    {
     "data": {
      "text/html": [
       "<div><style>\n",
       ".dataframe > thead > tr,\n",
       ".dataframe > tbody > tr {\n",
       "  text-align: right;\n",
       "  white-space: pre-wrap;\n",
       "}\n",
       "</style>\n",
       "<small>shape: (1, 6)</small><table border=\"1\" class=\"dataframe\"><thead><tr><th>DOI</th><th>Title</th><th>Authors</th><th>Abstract</th><th>Journal</th><th>Date</th></tr><tr><td>u32</td><td>u32</td><td>u32</td><td>u32</td><td>u32</td><td>u32</td></tr></thead><tbody><tr><td>0</td><td>0</td><td>0</td><td>0</td><td>0</td><td>0</td></tr></tbody></table></div>"
      ],
      "text/plain": [
       "shape: (1, 6)\n",
       "┌─────┬───────┬─────────┬──────────┬─────────┬──────┐\n",
       "│ DOI ┆ Title ┆ Authors ┆ Abstract ┆ Journal ┆ Date │\n",
       "│ --- ┆ ---   ┆ ---     ┆ ---      ┆ ---     ┆ ---  │\n",
       "│ u32 ┆ u32   ┆ u32     ┆ u32      ┆ u32     ┆ u32  │\n",
       "╞═════╪═══════╪═════════╪══════════╪═════════╪══════╡\n",
       "│ 0   ┆ 0     ┆ 0       ┆ 0        ┆ 0       ┆ 0    │\n",
       "└─────┴───────┴─────────┴──────────┴─────────┴──────┘"
      ]
     },
     "metadata": {},
     "output_type": "display_data"
    }
   ],
   "source": [
    "df_pubmed = pl.read_csv(source=\"pubmed_raw_corpus.csv\", separator=\"\\t\")\n",
    "\n",
    "display(df_pubmed.sample(n=10))\n",
    "display(df_pubmed.shape)\n",
    "display(df_pubmed.null_count())"
   ]
  },
  {
   "cell_type": "code",
   "execution_count": null,
   "id": "535d1d01",
   "metadata": {},
   "outputs": [],
   "source": []
  },
  {
   "cell_type": "code",
   "execution_count": null,
   "id": "ce4f8e3a",
   "metadata": {},
   "outputs": [],
   "source": []
  },
  {
   "cell_type": "code",
   "execution_count": null,
   "id": "d7b02249",
   "metadata": {},
   "outputs": [],
   "source": []
  },
  {
   "cell_type": "code",
   "execution_count": null,
   "id": "688894fa",
   "metadata": {},
   "outputs": [],
   "source": []
  }
 ],
 "metadata": {
  "kernelspec": {
   "display_name": "-NLP-Practice-II---Document-similarity",
   "language": "python",
   "name": "python3"
  },
  "language_info": {
   "codemirror_mode": {
    "name": "ipython",
    "version": 3
   },
   "file_extension": ".py",
   "mimetype": "text/x-python",
   "name": "python",
   "nbconvert_exporter": "python",
   "pygments_lexer": "ipython3",
   "version": "3.13.7"
  }
 },
 "nbformat": 4,
 "nbformat_minor": 5
}
