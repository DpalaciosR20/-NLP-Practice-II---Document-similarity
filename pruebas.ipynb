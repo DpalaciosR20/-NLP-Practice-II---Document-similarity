{
 "cells": [
  {
   "cell_type": "code",
   "execution_count": 1,
   "id": "5e33f42c",
   "metadata": {},
   "outputs": [],
   "source": [
    "import polars as pl"
   ]
  },
  {
   "cell_type": "code",
   "execution_count": 2,
   "id": "f8c2d2f9",
   "metadata": {},
   "outputs": [
    {
     "data": {
      "text/html": [
       "<div><style>\n",
       ".dataframe > thead > tr,\n",
       ".dataframe > tbody > tr {\n",
       "  text-align: right;\n",
       "  white-space: pre-wrap;\n",
       "}\n",
       "</style>\n",
       "<small>shape: (10, 6)</small><table border=\"1\" class=\"dataframe\"><thead><tr><th>DOI</th><th>Title</th><th>Authors</th><th>Abstract</th><th>Section</th><th>Date</th></tr><tr><td>str</td><td>str</td><td>str</td><td>str</td><td>str</td><td>str</td></tr></thead><tbody><tr><td>&quot;10.48550/arXiv.2509.16151&quot;</td><td>&quot;Automated Cyber Defense with G…</td><td>&quot;Isaiah J. King, Benjamin Bowma…</td><td>&quot;Deep reinforcement learning (R…</td><td>&quot;Cryptography and Security&quot;</td><td>&quot;19/09/2025&quot;</td></tr><tr><td>&quot;10.48550/arXiv.2509.15174&quot;</td><td>&quot;SMARTER: A Data-efficient Fram…</td><td>&quot;Huy Nghiem, Advik Sachdeva, Ha…</td><td>&quot;WARNING: This paper contains e…</td><td>&quot;Computation and Language&quot;</td><td>&quot;18/09/2025&quot;</td></tr><tr><td>&quot;10.48550/arXiv.2509.15990&quot;</td><td>&quot;DAFTED: Decoupled Asymmetric F…</td><td>&quot;Jérémie Stym-Popper, Nathan Pa…</td><td>&quot;Multimodal data fusion has eme…</td><td>&quot;Computer Vision and Pattern Re…</td><td>&quot;19/09/2025&quot;</td></tr><tr><td>&quot;10.48550/arXiv.2509.14335&quot;</td><td>&quot;Beyond Classification: Evaluat…</td><td>&quot;Xinran Zheng, Xingzhi Qian, Yi…</td><td>&quot;Automated malware classificati…</td><td>&quot;Cryptography and Security&quot;</td><td>&quot;17/09/2025&quot;</td></tr><tr><td>&quot;10.48550/arXiv.2509.16163&quot;</td><td>&quot;Robust Vision-Language Models …</td><td>&quot;Het Patel, Muzammil Allie, Qia…</td><td>&quot;Vision language models (VLMs) …</td><td>&quot;Computer Vision and Pattern Re…</td><td>&quot;19/09/2025&quot;</td></tr><tr><td>&quot;10.48550/arXiv.2509.16198&quot;</td><td>&quot;RPG: A Repository Planning Gra…</td><td>&quot;Jane Luo, Xin Zhang, Steven Li…</td><td>&quot;Large language models excel at…</td><td>&quot;Computation and Language&quot;</td><td>&quot;19/09/2025&quot;</td></tr><tr><td>&quot;10.48550/arXiv.2509.15926&quot;</td><td>&quot;Beyond the Score: Uncertainty-…</td><td>&quot;Ahmed Karim, Qiao Wang, Zheng …</td><td>&quot;Automated Essay Scoring (AES) …</td><td>&quot;Computation and Language&quot;</td><td>&quot;19/09/2025&quot;</td></tr><tr><td>&quot;10.48550/arXiv.2509.15546&quot;</td><td>&quot;Enhancing Sa2VA for Referent V…</td><td>&quot;Ran Hong, Feng Lu, Leilei Cao,…</td><td>&quot;Referential Video Object Segme…</td><td>&quot;Computer Vision and Pattern Re…</td><td>&quot;19/09/2025&quot;</td></tr><tr><td>&quot;10.48550/arXiv.2509.16098&quot;</td><td>&quot;SegDINO3D: 3D Instance Segment…</td><td>&quot;Jinyuan Qu, Hongyang Li, Xingy…</td><td>&quot;In this paper, we present SegD…</td><td>&quot;Computer Vision and Pattern Re…</td><td>&quot;19/09/2025&quot;</td></tr><tr><td>&quot;10.48550/arXiv.2509.15089&quot;</td><td>&quot;LLM-OREF: An Open Relation Ext…</td><td>&quot;Hongyao Tu, Liang Zhang, Yujie…</td><td>&quot;The goal of open relation extr…</td><td>&quot;Computation and Language&quot;</td><td>&quot;18/09/2025&quot;</td></tr></tbody></table></div>"
      ],
      "text/plain": [
       "shape: (10, 6)\n",
       "┌─────────────────┬────────────────┬────────────────┬────────────────┬────────────────┬────────────┐\n",
       "│ DOI             ┆ Title          ┆ Authors        ┆ Abstract       ┆ Section        ┆ Date       │\n",
       "│ ---             ┆ ---            ┆ ---            ┆ ---            ┆ ---            ┆ ---        │\n",
       "│ str             ┆ str            ┆ str            ┆ str            ┆ str            ┆ str        │\n",
       "╞═════════════════╪════════════════╪════════════════╪════════════════╪════════════════╪════════════╡\n",
       "│ 10.48550/arXiv. ┆ Automated      ┆ Isaiah J.      ┆ Deep           ┆ Cryptography   ┆ 19/09/2025 │\n",
       "│ 2509.16151      ┆ Cyber Defense  ┆ King, Benjamin ┆ reinforcement  ┆ and Security   ┆            │\n",
       "│                 ┆ with G…        ┆ Bowma…         ┆ learning (R…   ┆                ┆            │\n",
       "│ 10.48550/arXiv. ┆ SMARTER: A     ┆ Huy Nghiem,    ┆ WARNING: This  ┆ Computation    ┆ 18/09/2025 │\n",
       "│ 2509.15174      ┆ Data-efficient ┆ Advik          ┆ paper contains ┆ and Language   ┆            │\n",
       "│                 ┆ Fram…          ┆ Sachdeva, Ha…  ┆ e…             ┆                ┆            │\n",
       "│ 10.48550/arXiv. ┆ DAFTED:        ┆ Jérémie        ┆ Multimodal     ┆ Computer       ┆ 19/09/2025 │\n",
       "│ 2509.15990      ┆ Decoupled      ┆ Stym-Popper,   ┆ data fusion    ┆ Vision and     ┆            │\n",
       "│                 ┆ Asymmetric F…  ┆ Nathan Pa…     ┆ has eme…       ┆ Pattern Re…    ┆            │\n",
       "│ 10.48550/arXiv. ┆ Beyond Classif ┆ Xinran Zheng,  ┆ Automated      ┆ Cryptography   ┆ 17/09/2025 │\n",
       "│ 2509.14335      ┆ ication:       ┆ Xingzhi Qian,  ┆ malware        ┆ and Security   ┆            │\n",
       "│                 ┆ Evaluat…       ┆ Yi…            ┆ classificati…  ┆                ┆            │\n",
       "│ 10.48550/arXiv. ┆ Robust Vision- ┆ Het Patel,     ┆ Vision         ┆ Computer       ┆ 19/09/2025 │\n",
       "│ 2509.16163      ┆ Language       ┆ Muzammil       ┆ language       ┆ Vision and     ┆            │\n",
       "│                 ┆ Models …       ┆ Allie, Qia…    ┆ models (VLMs)  ┆ Pattern Re…    ┆            │\n",
       "│                 ┆                ┆                ┆ …              ┆                ┆            │\n",
       "│ 10.48550/arXiv. ┆ RPG: A         ┆ Jane Luo, Xin  ┆ Large language ┆ Computation    ┆ 19/09/2025 │\n",
       "│ 2509.16198      ┆ Repository     ┆ Zhang, Steven  ┆ models excel   ┆ and Language   ┆            │\n",
       "│                 ┆ Planning Gra…  ┆ Li…            ┆ at…            ┆                ┆            │\n",
       "│ 10.48550/arXiv. ┆ Beyond the     ┆ Ahmed Karim,   ┆ Automated      ┆ Computation    ┆ 19/09/2025 │\n",
       "│ 2509.15926      ┆ Score:         ┆ Qiao Wang,     ┆ Essay Scoring  ┆ and Language   ┆            │\n",
       "│                 ┆ Uncertainty-…  ┆ Zheng …        ┆ (AES) …        ┆                ┆            │\n",
       "│ 10.48550/arXiv. ┆ Enhancing      ┆ Ran Hong, Feng ┆ Referential    ┆ Computer       ┆ 19/09/2025 │\n",
       "│ 2509.15546      ┆ Sa2VA for      ┆ Lu, Leilei     ┆ Video Object   ┆ Vision and     ┆            │\n",
       "│                 ┆ Referent V…    ┆ Cao,…          ┆ Segme…         ┆ Pattern Re…    ┆            │\n",
       "│ 10.48550/arXiv. ┆ SegDINO3D: 3D  ┆ Jinyuan Qu,    ┆ In this paper, ┆ Computer       ┆ 19/09/2025 │\n",
       "│ 2509.16098      ┆ Instance       ┆ Hongyang Li,   ┆ we present     ┆ Vision and     ┆            │\n",
       "│                 ┆ Segment…       ┆ Xingy…         ┆ SegD…          ┆ Pattern Re…    ┆            │\n",
       "│ 10.48550/arXiv. ┆ LLM-OREF: An   ┆ Hongyao Tu,    ┆ The goal of    ┆ Computation    ┆ 18/09/2025 │\n",
       "│ 2509.15089      ┆ Open Relation  ┆ Liang Zhang,   ┆ open relation  ┆ and Language   ┆            │\n",
       "│                 ┆ Ext…           ┆ Yujie…         ┆ extr…          ┆                ┆            │\n",
       "└─────────────────┴────────────────┴────────────────┴────────────────┴────────────────┴────────────┘"
      ]
     },
     "metadata": {},
     "output_type": "display_data"
    },
    {
     "data": {
      "text/plain": [
       "(300, 6)"
      ]
     },
     "metadata": {},
     "output_type": "display_data"
    },
    {
     "data": {
      "text/html": [
       "<div><style>\n",
       ".dataframe > thead > tr,\n",
       ".dataframe > tbody > tr {\n",
       "  text-align: right;\n",
       "  white-space: pre-wrap;\n",
       "}\n",
       "</style>\n",
       "<small>shape: (3, 2)</small><table border=\"1\" class=\"dataframe\"><thead><tr><th>Section</th><th>len</th></tr><tr><td>str</td><td>u32</td></tr></thead><tbody><tr><td>&quot;Cryptography and Security&quot;</td><td>100</td></tr><tr><td>&quot;Computation and Language&quot;</td><td>100</td></tr><tr><td>&quot;Computer Vision and Pattern Re…</td><td>100</td></tr></tbody></table></div>"
      ],
      "text/plain": [
       "shape: (3, 2)\n",
       "┌─────────────────────────────────┬─────┐\n",
       "│ Section                         ┆ len │\n",
       "│ ---                             ┆ --- │\n",
       "│ str                             ┆ u32 │\n",
       "╞═════════════════════════════════╪═════╡\n",
       "│ Cryptography and Security       ┆ 100 │\n",
       "│ Computation and Language        ┆ 100 │\n",
       "│ Computer Vision and Pattern Re… ┆ 100 │\n",
       "└─────────────────────────────────┴─────┘"
      ]
     },
     "metadata": {},
     "output_type": "display_data"
    },
    {
     "data": {
      "text/html": [
       "<div><style>\n",
       ".dataframe > thead > tr,\n",
       ".dataframe > tbody > tr {\n",
       "  text-align: right;\n",
       "  white-space: pre-wrap;\n",
       "}\n",
       "</style>\n",
       "<small>shape: (1, 6)</small><table border=\"1\" class=\"dataframe\"><thead><tr><th>DOI</th><th>Title</th><th>Authors</th><th>Abstract</th><th>Section</th><th>Date</th></tr><tr><td>u32</td><td>u32</td><td>u32</td><td>u32</td><td>u32</td><td>u32</td></tr></thead><tbody><tr><td>0</td><td>0</td><td>0</td><td>0</td><td>0</td><td>0</td></tr></tbody></table></div>"
      ],
      "text/plain": [
       "shape: (1, 6)\n",
       "┌─────┬───────┬─────────┬──────────┬─────────┬──────┐\n",
       "│ DOI ┆ Title ┆ Authors ┆ Abstract ┆ Section ┆ Date │\n",
       "│ --- ┆ ---   ┆ ---     ┆ ---      ┆ ---     ┆ ---  │\n",
       "│ u32 ┆ u32   ┆ u32     ┆ u32      ┆ u32     ┆ u32  │\n",
       "╞═════╪═══════╪═════════╪══════════╪═════════╪══════╡\n",
       "│ 0   ┆ 0     ┆ 0       ┆ 0        ┆ 0       ┆ 0    │\n",
       "└─────┴───────┴─────────┴──────────┴─────────┴──────┘"
      ]
     },
     "metadata": {},
     "output_type": "display_data"
    }
   ],
   "source": [
    "df_arxiv = pl.read_csv(source=\"arxiv_raw_corpus.csv\", separator=\"\\t\")\n",
    "\n",
    "display(df_arxiv.sample(n=10))\n",
    "display(df_arxiv.shape)\n",
    "display(df_arxiv.group_by(\"Section\").len())\n",
    "display(df_arxiv.null_count())"
   ]
  },
  {
   "cell_type": "code",
   "execution_count": 3,
   "id": "988462ab",
   "metadata": {},
   "outputs": [
    {
     "data": {
      "text/html": [
       "<div><style>\n",
       ".dataframe > thead > tr,\n",
       ".dataframe > tbody > tr {\n",
       "  text-align: right;\n",
       "  white-space: pre-wrap;\n",
       "}\n",
       "</style>\n",
       "<small>shape: (10, 6)</small><table border=\"1\" class=\"dataframe\"><thead><tr><th>DOI</th><th>Title</th><th>Authors</th><th>Abstract</th><th>Journal</th><th>Date</th></tr><tr><td>str</td><td>str</td><td>str</td><td>str</td><td>str</td><td>str</td></tr></thead><tbody><tr><td>&quot;10.1016/j.cell.2018.05.051&quot;</td><td>&quot;Common Disease Is More Complex…</td><td>&quot;Wray NR, Wijmenga C, Sullivan …</td><td>&quot;The evidence that most adult-o…</td><td>&quot;Cell&quot;</td><td>&quot;2018 Jun 14&quot;</td></tr><tr><td>&quot;10.1159/000480657&quot;</td><td>&quot;Geniposide Attenuates Post-Isc…</td><td>&quot;Huang B, Chen P, Huang L, Li S…</td><td>&quot;BACKGROUND/AIMS: Calcium-perme…</td><td>&quot;Cellular physiology and bioche…</td><td>&quot;2017&quot;</td></tr><tr><td>&quot;10.1016/j.ccell.2025.09.003&quot;</td><td>&quot;Sensory neurons drive pancreat…</td><td>&quot;Ren L, Liu C, Çifcibaşı K, Bal…</td><td>&quot;Cancers thrive on neuronal inp…</td><td>&quot;Cancer cell&quot;</td><td>&quot;2025 Sep 25&quot;</td></tr><tr><td>&quot;10.1016/j.cell.2025.08.038&quot;</td><td>&quot;Multiscale proteomic modeling …</td><td>&quot;Wang E, Yu K, Cao J, Wang M, K…</td><td>&quot;The molecular mechanisms under…</td><td>&quot;Cell&quot;</td><td>&quot;2025 Sep 25&quot;</td></tr><tr><td>&quot;10.1186/s13045-025-01739-6&quot;</td><td>&quot;Combination immunotherapy in h…</td><td>&quot;Dai S, Chen Y, Cai W, Dong S, …</td><td>&quot;Combination therapy is rapidly…</td><td>&quot;Journal of hematology &amp; oncolo…</td><td>&quot;2025 Sep 26&quot;</td></tr><tr><td>&quot;10.1016/j.ccell.2025.09.002&quot;</td><td>&quot;Ketogenic diet inhibits glioma…</td><td>&quot;Chen ML, He Y, Dong XH, Liu HF…</td><td>&quot;The ketogenic diet (KD) is a p…</td><td>&quot;Cancer cell&quot;</td><td>&quot;2025 Sep 25&quot;</td></tr><tr><td>&quot;10.1016/j.cell.2025.09.001&quot;</td><td>&quot;Safe immunosuppression-resista…</td><td>&quot;Zhou RW, Purohit PK, Kim JH, L…</td><td>&quot;Bispecific antibodies and chim…</td><td>&quot;Cell&quot;</td><td>&quot;2025 Sep 25&quot;</td></tr><tr><td>&quot;10.1016/j.chroma.2018.01.015&quot;</td><td>&quot;Profiling of polyunsaturated f…</td><td>&quot;Gu WY, Liu MX, Sun BQ, Guo MQ,…</td><td>&quot;Polyunsaturated fatty acids (P…</td><td>&quot;Journal of chromatography. A&quot;</td><td>&quot;2018 Feb 16&quot;</td></tr><tr><td>&quot;10.1111/ppe.12615&quot;</td><td>&quot;Acetaminophen use during pregn…</td><td>&quot;Masarwa R, Platt RW, Filion KB&quot;</td><td>&quot;BACKGROUND: The association be…</td><td>&quot;Paediatric and perinatal epide…</td><td>&quot;2020 May&quot;</td></tr><tr><td>&quot;10.1016/j.cell.2025.09.003&quot;</td><td>&quot;Single-cell nascent transcript…</td><td>&quot;Ma S, Hong Y, Chen J, Xu J, Sh…</td><td>&quot;Understanding cell diversifica…</td><td>&quot;Cell&quot;</td><td>&quot;2025 Sep 26&quot;</td></tr></tbody></table></div>"
      ],
      "text/plain": [
       "shape: (10, 6)\n",
       "┌────────────────┬────────────────┬────────────────┬────────────────┬────────────────┬─────────────┐\n",
       "│ DOI            ┆ Title          ┆ Authors        ┆ Abstract       ┆ Journal        ┆ Date        │\n",
       "│ ---            ┆ ---            ┆ ---            ┆ ---            ┆ ---            ┆ ---         │\n",
       "│ str            ┆ str            ┆ str            ┆ str            ┆ str            ┆ str         │\n",
       "╞════════════════╪════════════════╪════════════════╪════════════════╪════════════════╪═════════════╡\n",
       "│ 10.1016/j.cell ┆ Common Disease ┆ Wray NR,       ┆ The evidence   ┆ Cell           ┆ 2018 Jun 14 │\n",
       "│ .2018.05.051   ┆ Is More        ┆ Wijmenga C,    ┆ that most      ┆                ┆             │\n",
       "│                ┆ Complex…       ┆ Sullivan …     ┆ adult-o…       ┆                ┆             │\n",
       "│ 10.1159/000480 ┆ Geniposide     ┆ Huang B, Chen  ┆ BACKGROUND/AIM ┆ Cellular       ┆ 2017        │\n",
       "│ 657            ┆ Attenuates     ┆ P, Huang L, Li ┆ S:             ┆ physiology and ┆             │\n",
       "│                ┆ Post-Isc…      ┆ S…             ┆ Calcium-perme… ┆ bioche…        ┆             │\n",
       "│ 10.1016/j.ccel ┆ Sensory        ┆ Ren L, Liu C,  ┆ Cancers thrive ┆ Cancer cell    ┆ 2025 Sep 25 │\n",
       "│ l.2025.09.003  ┆ neurons drive  ┆ Çifcibaşı K,   ┆ on neuronal    ┆                ┆             │\n",
       "│                ┆ pancreat…      ┆ Bal…           ┆ inp…           ┆                ┆             │\n",
       "│ 10.1016/j.cell ┆ Multiscale     ┆ Wang E, Yu K,  ┆ The molecular  ┆ Cell           ┆ 2025 Sep 25 │\n",
       "│ .2025.08.038   ┆ proteomic      ┆ Cao J, Wang M, ┆ mechanisms     ┆                ┆             │\n",
       "│                ┆ modeling …     ┆ K…             ┆ under…         ┆                ┆             │\n",
       "│ 10.1186/s13045 ┆ Combination    ┆ Dai S, Chen Y, ┆ Combination    ┆ Journal of     ┆ 2025 Sep 26 │\n",
       "│ -025-01739-6   ┆ immunotherapy  ┆ Cai W, Dong S, ┆ therapy is     ┆ hematology &   ┆             │\n",
       "│                ┆ in h…          ┆ …              ┆ rapidly…       ┆ oncolo…        ┆             │\n",
       "│ 10.1016/j.ccel ┆ Ketogenic diet ┆ Chen ML, He Y, ┆ The ketogenic  ┆ Cancer cell    ┆ 2025 Sep 25 │\n",
       "│ l.2025.09.002  ┆ inhibits       ┆ Dong XH, Liu   ┆ diet (KD) is a ┆                ┆             │\n",
       "│                ┆ glioma…        ┆ HF…            ┆ p…             ┆                ┆             │\n",
       "│ 10.1016/j.cell ┆ Safe immunosup ┆ Zhou RW,       ┆ Bispecific     ┆ Cell           ┆ 2025 Sep 25 │\n",
       "│ .2025.09.001   ┆ pression-resis ┆ Purohit PK,    ┆ antibodies and ┆                ┆             │\n",
       "│                ┆ ta…            ┆ Kim JH, L…     ┆ chim…          ┆                ┆             │\n",
       "│ 10.1016/j.chro ┆ Profiling of   ┆ Gu WY, Liu MX, ┆ Polyunsaturate ┆ Journal of chr ┆ 2018 Feb 16 │\n",
       "│ ma.2018.01.015 ┆ polyunsaturate ┆ Sun BQ, Guo    ┆ d fatty acids  ┆ omatography. A ┆             │\n",
       "│                ┆ d f…           ┆ MQ,…           ┆ (P…            ┆                ┆             │\n",
       "│ 10.1111/ppe.12 ┆ Acetaminophen  ┆ Masarwa R,     ┆ BACKGROUND:    ┆ Paediatric and ┆ 2020 May    │\n",
       "│ 615            ┆ use during     ┆ Platt RW,      ┆ The            ┆ perinatal      ┆             │\n",
       "│                ┆ pregn…         ┆ Filion KB      ┆ association    ┆ epide…         ┆             │\n",
       "│                ┆                ┆                ┆ be…            ┆                ┆             │\n",
       "│ 10.1016/j.cell ┆ Single-cell    ┆ Ma S, Hong Y,  ┆ Understanding  ┆ Cell           ┆ 2025 Sep 26 │\n",
       "│ .2025.09.003   ┆ nascent        ┆ Chen J, Xu J,  ┆ cell           ┆                ┆             │\n",
       "│                ┆ transcript…    ┆ Sh…            ┆ diversifica…   ┆                ┆             │\n",
       "└────────────────┴────────────────┴────────────────┴────────────────┴────────────────┴─────────────┘"
      ]
     },
     "metadata": {},
     "output_type": "display_data"
    },
    {
     "data": {
      "text/plain": [
       "(14, 6)"
      ]
     },
     "metadata": {},
     "output_type": "display_data"
    },
    {
     "data": {
      "text/html": [
       "<div><style>\n",
       ".dataframe > thead > tr,\n",
       ".dataframe > tbody > tr {\n",
       "  text-align: right;\n",
       "  white-space: pre-wrap;\n",
       "}\n",
       "</style>\n",
       "<small>shape: (1, 6)</small><table border=\"1\" class=\"dataframe\"><thead><tr><th>DOI</th><th>Title</th><th>Authors</th><th>Abstract</th><th>Journal</th><th>Date</th></tr><tr><td>u32</td><td>u32</td><td>u32</td><td>u32</td><td>u32</td><td>u32</td></tr></thead><tbody><tr><td>0</td><td>0</td><td>0</td><td>0</td><td>0</td><td>0</td></tr></tbody></table></div>"
      ],
      "text/plain": [
       "shape: (1, 6)\n",
       "┌─────┬───────┬─────────┬──────────┬─────────┬──────┐\n",
       "│ DOI ┆ Title ┆ Authors ┆ Abstract ┆ Journal ┆ Date │\n",
       "│ --- ┆ ---   ┆ ---     ┆ ---      ┆ ---     ┆ ---  │\n",
       "│ u32 ┆ u32   ┆ u32     ┆ u32      ┆ u32     ┆ u32  │\n",
       "╞═════╪═══════╪═════════╪══════════╪═════════╪══════╡\n",
       "│ 0   ┆ 0     ┆ 0       ┆ 0        ┆ 0       ┆ 0    │\n",
       "└─────┴───────┴─────────┴──────────┴─────────┴──────┘"
      ]
     },
     "metadata": {},
     "output_type": "display_data"
    }
   ],
   "source": [
    "df_pubmed = pl.read_csv(source=\"pubmed_raw_corpus.csv\", separator=\"\\t\")\n",
    "\n",
    "display(df_pubmed.sample(n=10))\n",
    "display(df_pubmed.shape)\n",
    "display(df_pubmed.null_count())"
   ]
  }
 ],
 "metadata": {
  "kernelspec": {
   "display_name": "-NLP-Practice-II---Document-similarity",
   "language": "python",
   "name": "python3"
  },
  "language_info": {
   "codemirror_mode": {
    "name": "ipython",
    "version": 3
   },
   "file_extension": ".py",
   "mimetype": "text/x-python",
   "name": "python",
   "nbconvert_exporter": "python",
   "pygments_lexer": "ipython3",
   "version": "3.13.7"
  }
 },
 "nbformat": 4,
 "nbformat_minor": 5
}
