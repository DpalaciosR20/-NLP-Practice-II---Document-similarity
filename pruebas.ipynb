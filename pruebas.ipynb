{
 "cells": [
  {
   "cell_type": "code",
   "execution_count": 2,
   "id": "5e33f42c",
   "metadata": {},
   "outputs": [],
   "source": [
    "import polars as pl"
   ]
  },
  {
   "cell_type": "code",
   "execution_count": 49,
   "id": "f8c2d2f9",
   "metadata": {},
   "outputs": [
    {
     "data": {
      "text/html": [
       "<div><style>\n",
       ".dataframe > thead > tr,\n",
       ".dataframe > tbody > tr {\n",
       "  text-align: right;\n",
       "  white-space: pre-wrap;\n",
       "}\n",
       "</style>\n",
       "<small>shape: (10, 6)</small><table border=\"1\" class=\"dataframe\"><thead><tr><th>DOI</th><th>Title</th><th>Authors</th><th>Abstract</th><th>Section</th><th>Date</th></tr><tr><td>str</td><td>str</td><td>str</td><td>str</td><td>str</td><td>str</td></tr></thead><tbody><tr><td>&quot;10.48550/arXiv.2509.11745&quot;</td><td>&quot;Removal Attack and Defense on …</td><td>&quot;De Zhang Lee, Han Fang, Hanyi …</td><td>&quot;Digital watermarks can be embe…</td><td>&quot;Cryptography and Security&quot;</td><td>&quot;15/09/2025&quot;</td></tr><tr><td>&quot;10.48550/arXiv.2509.15174&quot;</td><td>&quot;SMARTER: A Data-efficient Fram…</td><td>&quot;Huy Nghiem, Advik Sachdeva, Ha…</td><td>&quot;WARNING: This paper contains e…</td><td>&quot;Computation and Language&quot;</td><td>&quot;18/09/2025&quot;</td></tr><tr><td>&quot;10.48550/arXiv.2509.15549&quot;</td><td>&quot;A method for improving multili…</td><td>&quot;Chunguang Zhao, Yilun Liu, Puf…</td><td>&quot;Multilingual Instruction Fine-…</td><td>&quot;Computation and Language&quot;</td><td>&quot;19/09/2025&quot;</td></tr><tr><td>&quot;10.48550/arXiv.2509.14653&quot;</td><td>&quot;UMA-Split: unimodal aggregatio…</td><td>&quot;Ying Fang, Xiaofei Li&quot;</td><td>&quot;This paper proposes a unimodal…</td><td>&quot;Computation and Language&quot;</td><td>&quot;18/09/2025&quot;</td></tr><tr><td>&quot;10.48550/arXiv.2509.15980&quot;</td><td>&quot;Shedding Light on Depth: Expla…</td><td>&quot;Lorenzo Cirillo, Claudio Schia…</td><td>&quot;Explainable artificial intelli…</td><td>&quot;Computer Vision and Pattern Re…</td><td>&quot;19/09/2025&quot;</td></tr><tr><td>&quot;10.48550/arXiv.2509.13405&quot;</td><td>&quot;Defining Security in Quantum K…</td><td>&quot;Carla Ferradini, Martin Sandfu…</td><td>&quot;The security of quantum key di…</td><td>&quot;Cryptography and Security&quot;</td><td>&quot;16/09/2025&quot;</td></tr><tr><td>&quot;10.48550/arXiv.2509.15638&quot;</td><td>&quot;pFedSAM: Personalized Federate…</td><td>&quot;Tong Wang, Xingyue Zhao, Lingh…</td><td>&quot;Medical image segmentation is …</td><td>&quot;Computer Vision and Pattern Re…</td><td>&quot;19/09/2025&quot;</td></tr><tr><td>&quot;10.48550/arXiv.2509.15789&quot;</td><td>&quot;UPRPRC: Unified Pipeline for R…</td><td>&quot;Qiuyang Lu, Fangjian Shen, Zhe…</td><td>&quot;The quality and accessibility …</td><td>&quot;Computation and Language&quot;</td><td>&quot;19/09/2025&quot;</td></tr><tr><td>&quot;10.48550/arXiv.2509.15098&quot;</td><td>&quot;TextMine: LLM-Powered Knowledg…</td><td>&quot;Chenyue Zhou, Gürkan Solmaz, F…</td><td>&quot;Humanitarian Mine Action has g…</td><td>&quot;Computation and Language&quot;</td><td>&quot;18/09/2025&quot;</td></tr><tr><td>&quot;10.48550/arXiv.2509.15578&quot;</td><td>&quot;Multimodal Learning for Fake N…</td><td>&quot;Shanghong Li, Chiam Wen Qi Rut…</td><td>&quot;The rapid proliferation of sho…</td><td>&quot;Computer Vision and Pattern Re…</td><td>&quot;19/09/2025&quot;</td></tr></tbody></table></div>"
      ],
      "text/plain": [
       "shape: (10, 6)\n",
       "┌─────────────────┬────────────────┬────────────────┬────────────────┬────────────────┬────────────┐\n",
       "│ DOI             ┆ Title          ┆ Authors        ┆ Abstract       ┆ Section        ┆ Date       │\n",
       "│ ---             ┆ ---            ┆ ---            ┆ ---            ┆ ---            ┆ ---        │\n",
       "│ str             ┆ str            ┆ str            ┆ str            ┆ str            ┆ str        │\n",
       "╞═════════════════╪════════════════╪════════════════╪════════════════╪════════════════╪════════════╡\n",
       "│ 10.48550/arXiv. ┆ Removal Attack ┆ De Zhang Lee,  ┆ Digital        ┆ Cryptography   ┆ 15/09/2025 │\n",
       "│ 2509.11745      ┆ and Defense on ┆ Han Fang,      ┆ watermarks can ┆ and Security   ┆            │\n",
       "│                 ┆ …              ┆ Hanyi …        ┆ be embe…       ┆                ┆            │\n",
       "│ 10.48550/arXiv. ┆ SMARTER: A     ┆ Huy Nghiem,    ┆ WARNING: This  ┆ Computation    ┆ 18/09/2025 │\n",
       "│ 2509.15174      ┆ Data-efficient ┆ Advik          ┆ paper contains ┆ and Language   ┆            │\n",
       "│                 ┆ Fram…          ┆ Sachdeva, Ha…  ┆ e…             ┆                ┆            │\n",
       "│ 10.48550/arXiv. ┆ A method for   ┆ Chunguang      ┆ Multilingual   ┆ Computation    ┆ 19/09/2025 │\n",
       "│ 2509.15549      ┆ improving      ┆ Zhao, Yilun    ┆ Instruction    ┆ and Language   ┆            │\n",
       "│                 ┆ multili…       ┆ Liu, Puf…      ┆ Fine-…         ┆                ┆            │\n",
       "│ 10.48550/arXiv. ┆ UMA-Split:     ┆ Ying Fang,     ┆ This paper     ┆ Computation    ┆ 18/09/2025 │\n",
       "│ 2509.14653      ┆ unimodal       ┆ Xiaofei Li     ┆ proposes a     ┆ and Language   ┆            │\n",
       "│                 ┆ aggregatio…    ┆                ┆ unimodal…      ┆                ┆            │\n",
       "│ 10.48550/arXiv. ┆ Shedding Light ┆ Lorenzo        ┆ Explainable    ┆ Computer       ┆ 19/09/2025 │\n",
       "│ 2509.15980      ┆ on Depth:      ┆ Cirillo,       ┆ artificial     ┆ Vision and     ┆            │\n",
       "│                 ┆ Expla…         ┆ Claudio Schia… ┆ intelli…       ┆ Pattern Re…    ┆            │\n",
       "│ 10.48550/arXiv. ┆ Defining       ┆ Carla          ┆ The security   ┆ Cryptography   ┆ 16/09/2025 │\n",
       "│ 2509.13405      ┆ Security in    ┆ Ferradini,     ┆ of quantum key ┆ and Security   ┆            │\n",
       "│                 ┆ Quantum K…     ┆ Martin Sandfu… ┆ di…            ┆                ┆            │\n",
       "│ 10.48550/arXiv. ┆ pFedSAM:       ┆ Tong Wang,     ┆ Medical image  ┆ Computer       ┆ 19/09/2025 │\n",
       "│ 2509.15638      ┆ Personalized   ┆ Xingyue Zhao,  ┆ segmentation   ┆ Vision and     ┆            │\n",
       "│                 ┆ Federate…      ┆ Lingh…         ┆ is …           ┆ Pattern Re…    ┆            │\n",
       "│ 10.48550/arXiv. ┆ UPRPRC:        ┆ Qiuyang Lu,    ┆ The quality    ┆ Computation    ┆ 19/09/2025 │\n",
       "│ 2509.15789      ┆ Unified        ┆ Fangjian Shen, ┆ and            ┆ and Language   ┆            │\n",
       "│                 ┆ Pipeline for   ┆ Zhe…           ┆ accessibility  ┆                ┆            │\n",
       "│                 ┆ R…             ┆                ┆ …              ┆                ┆            │\n",
       "│ 10.48550/arXiv. ┆ TextMine:      ┆ Chenyue Zhou,  ┆ Humanitarian   ┆ Computation    ┆ 18/09/2025 │\n",
       "│ 2509.15098      ┆ LLM-Powered    ┆ Gürkan Solmaz, ┆ Mine Action    ┆ and Language   ┆            │\n",
       "│                 ┆ Knowledg…      ┆ F…             ┆ has g…         ┆                ┆            │\n",
       "│ 10.48550/arXiv. ┆ Multimodal     ┆ Shanghong Li,  ┆ The rapid      ┆ Computer       ┆ 19/09/2025 │\n",
       "│ 2509.15578      ┆ Learning for   ┆ Chiam Wen Qi   ┆ proliferation  ┆ Vision and     ┆            │\n",
       "│                 ┆ Fake N…        ┆ Rut…           ┆ of sho…        ┆ Pattern Re…    ┆            │\n",
       "└─────────────────┴────────────────┴────────────────┴────────────────┴────────────────┴────────────┘"
      ]
     },
     "execution_count": 49,
     "metadata": {},
     "output_type": "execute_result"
    }
   ],
   "source": [
    "df_arxiv = pl.read_csv(source=\"arxiv_raw_corpus.csv\", separator=\"\\t\")\n",
    "\n",
    "df_arxiv.sample(n=10)"
   ]
  },
  {
   "cell_type": "code",
   "execution_count": 9,
   "id": "9c842224",
   "metadata": {},
   "outputs": [
    {
     "data": {
      "text/html": [
       "<div><style>\n",
       ".dataframe > thead > tr,\n",
       ".dataframe > tbody > tr {\n",
       "  text-align: right;\n",
       "  white-space: pre-wrap;\n",
       "}\n",
       "</style>\n",
       "<small>shape: (3, 2)</small><table border=\"1\" class=\"dataframe\"><thead><tr><th>Section</th><th>len</th></tr><tr><td>str</td><td>u32</td></tr></thead><tbody><tr><td>&quot;Computer Vision and Pattern Re…</td><td>100</td></tr><tr><td>&quot;Computation and Language&quot;</td><td>100</td></tr><tr><td>&quot;Cryptography and Security&quot;</td><td>100</td></tr></tbody></table></div>"
      ],
      "text/plain": [
       "shape: (3, 2)\n",
       "┌─────────────────────────────────┬─────┐\n",
       "│ Section                         ┆ len │\n",
       "│ ---                             ┆ --- │\n",
       "│ str                             ┆ u32 │\n",
       "╞═════════════════════════════════╪═════╡\n",
       "│ Computer Vision and Pattern Re… ┆ 100 │\n",
       "│ Computation and Language        ┆ 100 │\n",
       "│ Cryptography and Security       ┆ 100 │\n",
       "└─────────────────────────────────┴─────┘"
      ]
     },
     "metadata": {},
     "output_type": "display_data"
    },
    {
     "data": {
      "text/html": [
       "<div><style>\n",
       ".dataframe > thead > tr,\n",
       ".dataframe > tbody > tr {\n",
       "  text-align: right;\n",
       "  white-space: pre-wrap;\n",
       "}\n",
       "</style>\n",
       "<small>shape: (1, 6)</small><table border=\"1\" class=\"dataframe\"><thead><tr><th>DOI</th><th>Title</th><th>Authors</th><th>Abstract</th><th>Section</th><th>Date</th></tr><tr><td>u32</td><td>u32</td><td>u32</td><td>u32</td><td>u32</td><td>u32</td></tr></thead><tbody><tr><td>0</td><td>0</td><td>0</td><td>0</td><td>0</td><td>0</td></tr></tbody></table></div>"
      ],
      "text/plain": [
       "shape: (1, 6)\n",
       "┌─────┬───────┬─────────┬──────────┬─────────┬──────┐\n",
       "│ DOI ┆ Title ┆ Authors ┆ Abstract ┆ Section ┆ Date │\n",
       "│ --- ┆ ---   ┆ ---     ┆ ---      ┆ ---     ┆ ---  │\n",
       "│ u32 ┆ u32   ┆ u32     ┆ u32      ┆ u32     ┆ u32  │\n",
       "╞═════╪═══════╪═════════╪══════════╪═════════╪══════╡\n",
       "│ 0   ┆ 0     ┆ 0       ┆ 0        ┆ 0       ┆ 0    │\n",
       "└─────┴───────┴─────────┴──────────┴─────────┴──────┘"
      ]
     },
     "metadata": {},
     "output_type": "display_data"
    }
   ],
   "source": [
    "display(df_arxiv.group_by(\"Section\").len())\n",
    "display(df_arxiv.null_count())"
   ]
  },
  {
   "cell_type": "code",
   "execution_count": null,
   "id": "988462ab",
   "metadata": {},
   "outputs": [],
   "source": []
  }
 ],
 "metadata": {
  "kernelspec": {
   "display_name": "-NLP-Practice-II---Document-similarity",
   "language": "python",
   "name": "python3"
  },
  "language_info": {
   "codemirror_mode": {
    "name": "ipython",
    "version": 3
   },
   "file_extension": ".py",
   "mimetype": "text/x-python",
   "name": "python",
   "nbconvert_exporter": "python",
   "pygments_lexer": "ipython3",
   "version": "3.13.7"
  }
 },
 "nbformat": 4,
 "nbformat_minor": 5
}
