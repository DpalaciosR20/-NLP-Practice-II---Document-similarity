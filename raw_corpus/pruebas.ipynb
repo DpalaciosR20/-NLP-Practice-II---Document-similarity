{
 "cells": [
  {
   "cell_type": "code",
   "execution_count": 1,
   "id": "5e33f42c",
   "metadata": {},
   "outputs": [],
   "source": [
    "import polars as pl"
   ]
  },
  {
   "cell_type": "code",
   "execution_count": 2,
   "id": "f8c2d2f9",
   "metadata": {},
   "outputs": [
    {
     "data": {
      "text/html": [
       "<div><style>\n",
       ".dataframe > thead > tr,\n",
       ".dataframe > tbody > tr {\n",
       "  text-align: right;\n",
       "  white-space: pre-wrap;\n",
       "}\n",
       "</style>\n",
       "<small>shape: (10, 6)</small><table border=\"1\" class=\"dataframe\"><thead><tr><th>DOI</th><th>Title</th><th>Authors</th><th>Abstract</th><th>Section</th><th>Date</th></tr><tr><td>str</td><td>str</td><td>str</td><td>str</td><td>str</td><td>str</td></tr></thead><tbody><tr><td>&quot;10.48550/arXiv.2509.15148&quot;</td><td>&quot;A1: Asynchronous Test-Time Sca…</td><td>&quot;Jing Xiong, Qiujiang Chen, Fan…</td><td>&quot;Large language models (LLMs) b…</td><td>&quot;Computation and Language&quot;</td><td>&quot;18/09/2025&quot;</td></tr><tr><td>&quot;10.48550/arXiv.2509.12979&quot;</td><td>&quot;Universal share based quantum …</td><td>&quot;Dipak K. Rabari, Yogesh K. Meg…</td><td>&quot;Image security for information…</td><td>&quot;Cryptography and Security&quot;</td><td>&quot;16/09/2025&quot;</td></tr><tr><td>&quot;10.48550/arXiv.2509.15602&quot;</td><td>&quot;TennisTV: Do Multimodal Large …</td><td>&quot;Zhongyuan Bao, Lejun Zhang&quot;</td><td>&quot;Multimodal large language mode…</td><td>&quot;Computer Vision and Pattern Re…</td><td>&quot;19/09/2025&quot;</td></tr><tr><td>&quot;10.48550/arXiv.2509.16025&quot;</td><td>&quot;Session-Level Spoken Language …</td><td>&quot;Hong-Yun Lin, Jhen-Ke Lin, Chu…</td><td>&quot;Spoken Language Assessment (SL…</td><td>&quot;Computation and Language&quot;</td><td>&quot;19/09/2025&quot;</td></tr><tr><td>&quot;10.48550/arXiv.2509.15984&quot;</td><td>&quot;CoPAD : Multi-source Trajector…</td><td>&quot;Kangyu Wu, Jiaqi Qiao, Ya Zhan…</td><td>&quot;Recently, data-driven trajecto…</td><td>&quot;Computer Vision and Pattern Re…</td><td>&quot;19/09/2025&quot;</td></tr><tr><td>&quot;10.48550/arXiv.2509.15553&quot;</td><td>&quot;Diffusion-Based Cross-Modal Fe…</td><td>&quot;Tian Lan, Yiming Zheng, Jianxi…</td><td>&quot;Multi-label classification has…</td><td>&quot;Computer Vision and Pattern Re…</td><td>&quot;19/09/2025&quot;</td></tr><tr><td>&quot;10.48550/arXiv.2509.13021&quot;</td><td>&quot;xOffense: An AI-driven autonom…</td><td>&quot;Phung Duc Luong, Le Tran Gia B…</td><td>&quot;Penetration testing (pentest) …</td><td>&quot;Cryptography and Security&quot;</td><td>&quot;16/09/2025&quot;</td></tr><tr><td>&quot;10.48550/arXiv.2509.13046&quot;</td><td>&quot;MIA-EPT: Membership Inference …</td><td>&quot;Eyal German, Daniel Samira, Yu…</td><td>&quot;Synthetic data generation play…</td><td>&quot;Cryptography and Security&quot;</td><td>&quot;16/09/2025&quot;</td></tr><tr><td>&quot;10.48550/arXiv.2509.15563&quot;</td><td>&quot;DC-Mamba: Bi-temporal deformab…</td><td>&quot;Min Sun, Fenghui Guo&quot;</td><td>&quot;Remote sensing change detectio…</td><td>&quot;Computer Vision and Pattern Re…</td><td>&quot;19/09/2025&quot;</td></tr><tr><td>&quot;10.48550/arXiv.2509.14754&quot;</td><td>&quot;Variables Ordering Optimizatio…</td><td>&quot;Minzhong Luo, Yudong Sun, Yin …</td><td>&quot;Solving systems of Boolean equ…</td><td>&quot;Cryptography and Security&quot;</td><td>&quot;18/09/2025&quot;</td></tr></tbody></table></div>"
      ],
      "text/plain": [
       "shape: (10, 6)\n",
       "┌─────────────────┬────────────────┬────────────────┬────────────────┬────────────────┬────────────┐\n",
       "│ DOI             ┆ Title          ┆ Authors        ┆ Abstract       ┆ Section        ┆ Date       │\n",
       "│ ---             ┆ ---            ┆ ---            ┆ ---            ┆ ---            ┆ ---        │\n",
       "│ str             ┆ str            ┆ str            ┆ str            ┆ str            ┆ str        │\n",
       "╞═════════════════╪════════════════╪════════════════╪════════════════╪════════════════╪════════════╡\n",
       "│ 10.48550/arXiv. ┆ A1:            ┆ Jing Xiong,    ┆ Large language ┆ Computation    ┆ 18/09/2025 │\n",
       "│ 2509.15148      ┆ Asynchronous   ┆ Qiujiang Chen, ┆ models (LLMs)  ┆ and Language   ┆            │\n",
       "│                 ┆ Test-Time Sca… ┆ Fan…           ┆ b…             ┆                ┆            │\n",
       "│ 10.48550/arXiv. ┆ Universal      ┆ Dipak K.       ┆ Image security ┆ Cryptography   ┆ 16/09/2025 │\n",
       "│ 2509.12979      ┆ share based    ┆ Rabari, Yogesh ┆ for            ┆ and Security   ┆            │\n",
       "│                 ┆ quantum …      ┆ K. Meg…        ┆ information…   ┆                ┆            │\n",
       "│ 10.48550/arXiv. ┆ TennisTV: Do   ┆ Zhongyuan Bao, ┆ Multimodal     ┆ Computer       ┆ 19/09/2025 │\n",
       "│ 2509.15602      ┆ Multimodal     ┆ Lejun Zhang    ┆ large language ┆ Vision and     ┆            │\n",
       "│                 ┆ Large …        ┆                ┆ mode…          ┆ Pattern Re…    ┆            │\n",
       "│ 10.48550/arXiv. ┆ Session-Level  ┆ Hong-Yun Lin,  ┆ Spoken         ┆ Computation    ┆ 19/09/2025 │\n",
       "│ 2509.16025      ┆ Spoken         ┆ Jhen-Ke Lin,   ┆ Language       ┆ and Language   ┆            │\n",
       "│                 ┆ Language …     ┆ Chu…           ┆ Assessment     ┆                ┆            │\n",
       "│                 ┆                ┆                ┆ (SL…           ┆                ┆            │\n",
       "│ 10.48550/arXiv. ┆ CoPAD :        ┆ Kangyu Wu,     ┆ Recently,      ┆ Computer       ┆ 19/09/2025 │\n",
       "│ 2509.15984      ┆ Multi-source   ┆ Jiaqi Qiao, Ya ┆ data-driven    ┆ Vision and     ┆            │\n",
       "│                 ┆ Trajector…     ┆ Zhan…          ┆ trajecto…      ┆ Pattern Re…    ┆            │\n",
       "│ 10.48550/arXiv. ┆ Diffusion-Base ┆ Tian Lan,      ┆ Multi-label    ┆ Computer       ┆ 19/09/2025 │\n",
       "│ 2509.15553      ┆ d Cross-Modal  ┆ Yiming Zheng,  ┆ classification ┆ Vision and     ┆            │\n",
       "│                 ┆ Fe…            ┆ Jianxi…        ┆ has…           ┆ Pattern Re…    ┆            │\n",
       "│ 10.48550/arXiv. ┆ xOffense: An   ┆ Phung Duc      ┆ Penetration    ┆ Cryptography   ┆ 16/09/2025 │\n",
       "│ 2509.13021      ┆ AI-driven      ┆ Luong, Le Tran ┆ testing        ┆ and Security   ┆            │\n",
       "│                 ┆ autonom…       ┆ Gia B…         ┆ (pentest) …    ┆                ┆            │\n",
       "│ 10.48550/arXiv. ┆ MIA-EPT:       ┆ Eyal German,   ┆ Synthetic data ┆ Cryptography   ┆ 16/09/2025 │\n",
       "│ 2509.13046      ┆ Membership     ┆ Daniel Samira, ┆ generation     ┆ and Security   ┆            │\n",
       "│                 ┆ Inference …    ┆ Yu…            ┆ play…          ┆                ┆            │\n",
       "│ 10.48550/arXiv. ┆ DC-Mamba:      ┆ Min Sun,       ┆ Remote sensing ┆ Computer       ┆ 19/09/2025 │\n",
       "│ 2509.15563      ┆ Bi-temporal    ┆ Fenghui Guo    ┆ change         ┆ Vision and     ┆            │\n",
       "│                 ┆ deformab…      ┆                ┆ detectio…      ┆ Pattern Re…    ┆            │\n",
       "│ 10.48550/arXiv. ┆ Variables      ┆ Minzhong Luo,  ┆ Solving        ┆ Cryptography   ┆ 18/09/2025 │\n",
       "│ 2509.14754      ┆ Ordering       ┆ Yudong Sun,    ┆ systems of     ┆ and Security   ┆            │\n",
       "│                 ┆ Optimizatio…   ┆ Yin …          ┆ Boolean equ…   ┆                ┆            │\n",
       "└─────────────────┴────────────────┴────────────────┴────────────────┴────────────────┴────────────┘"
      ]
     },
     "metadata": {},
     "output_type": "display_data"
    },
    {
     "data": {
      "text/plain": [
       "(300, 6)"
      ]
     },
     "metadata": {},
     "output_type": "display_data"
    },
    {
     "data": {
      "text/html": [
       "<div><style>\n",
       ".dataframe > thead > tr,\n",
       ".dataframe > tbody > tr {\n",
       "  text-align: right;\n",
       "  white-space: pre-wrap;\n",
       "}\n",
       "</style>\n",
       "<small>shape: (3, 2)</small><table border=\"1\" class=\"dataframe\"><thead><tr><th>Section</th><th>len</th></tr><tr><td>str</td><td>u32</td></tr></thead><tbody><tr><td>&quot;Cryptography and Security&quot;</td><td>100</td></tr><tr><td>&quot;Computation and Language&quot;</td><td>100</td></tr><tr><td>&quot;Computer Vision and Pattern Re…</td><td>100</td></tr></tbody></table></div>"
      ],
      "text/plain": [
       "shape: (3, 2)\n",
       "┌─────────────────────────────────┬─────┐\n",
       "│ Section                         ┆ len │\n",
       "│ ---                             ┆ --- │\n",
       "│ str                             ┆ u32 │\n",
       "╞═════════════════════════════════╪═════╡\n",
       "│ Cryptography and Security       ┆ 100 │\n",
       "│ Computation and Language        ┆ 100 │\n",
       "│ Computer Vision and Pattern Re… ┆ 100 │\n",
       "└─────────────────────────────────┴─────┘"
      ]
     },
     "metadata": {},
     "output_type": "display_data"
    },
    {
     "data": {
      "text/html": [
       "<div><style>\n",
       ".dataframe > thead > tr,\n",
       ".dataframe > tbody > tr {\n",
       "  text-align: right;\n",
       "  white-space: pre-wrap;\n",
       "}\n",
       "</style>\n",
       "<small>shape: (1, 6)</small><table border=\"1\" class=\"dataframe\"><thead><tr><th>DOI</th><th>Title</th><th>Authors</th><th>Abstract</th><th>Section</th><th>Date</th></tr><tr><td>u32</td><td>u32</td><td>u32</td><td>u32</td><td>u32</td><td>u32</td></tr></thead><tbody><tr><td>0</td><td>0</td><td>0</td><td>0</td><td>0</td><td>0</td></tr></tbody></table></div>"
      ],
      "text/plain": [
       "shape: (1, 6)\n",
       "┌─────┬───────┬─────────┬──────────┬─────────┬──────┐\n",
       "│ DOI ┆ Title ┆ Authors ┆ Abstract ┆ Section ┆ Date │\n",
       "│ --- ┆ ---   ┆ ---     ┆ ---      ┆ ---     ┆ ---  │\n",
       "│ u32 ┆ u32   ┆ u32     ┆ u32      ┆ u32     ┆ u32  │\n",
       "╞═════╪═══════╪═════════╪══════════╪═════════╪══════╡\n",
       "│ 0   ┆ 0     ┆ 0       ┆ 0        ┆ 0       ┆ 0    │\n",
       "└─────┴───────┴─────────┴──────────┴─────────┴──────┘"
      ]
     },
     "metadata": {},
     "output_type": "display_data"
    }
   ],
   "source": [
    "df_arxiv = pl.read_csv(source=\"arxiv_raw_corpus.csv\", separator=\"\\t\")\n",
    "\n",
    "display(df_arxiv.sample(n=10))\n",
    "display(df_arxiv.shape)\n",
    "display(df_arxiv.group_by(\"Section\").len())\n",
    "display(df_arxiv.null_count())"
   ]
  },
  {
   "cell_type": "code",
   "execution_count": 18,
   "id": "988462ab",
   "metadata": {},
   "outputs": [
    {
     "data": {
      "text/html": [
       "<div><style>\n",
       ".dataframe > thead > tr,\n",
       ".dataframe > tbody > tr {\n",
       "  text-align: right;\n",
       "  white-space: pre-wrap;\n",
       "}\n",
       "</style>\n",
       "<small>shape: (10, 6)</small><table border=\"1\" class=\"dataframe\"><thead><tr><th>DOI</th><th>Title</th><th>Authors</th><th>Abstract</th><th>Journal</th><th>Date</th></tr><tr><td>str</td><td>str</td><td>str</td><td>str</td><td>str</td><td>str</td></tr></thead><tbody><tr><td>&quot;10.3390/genes16091015&quot;</td><td>&quot;Obesity and the Genome: Emergi…</td><td>&quot;Yoo LG, Bordelon CL, Mendoza D…</td><td>&quot;Obesity is an epidemic that cu…</td><td>&quot;Genes&quot;</td><td>&quot;2025 Aug 27&quot;</td></tr><tr><td>&quot;10.1038/s41557-025-01966-x&quot;</td><td>&quot;Live-cell imaging with fluorog…</td><td>&quot;Xu L, Zhang W, Sánchez Tejeda …</td><td>&quot;Ferroptosis is a form of cell …</td><td>&quot;Nature chemistry&quot;</td><td>&quot;2025 Sep 26&quot;</td></tr><tr><td>&quot;10.1016/j.ebiom.2025.105950&quot;</td><td>&quot;Broadening dementia risk model…</td><td>&quot;Mostert CM, Udeh-Momoh C, Wink…</td><td>&quot;The 2024 Lancet Commission Rep…</td><td>&quot;EBioMedicine&quot;</td><td>&quot;2025 Sep 25&quot;</td></tr><tr><td>&quot;10.1038/s41467-025-63553-5&quot;</td><td>&quot;Ocular delivery of lipid nanop…</td><td>&quot;Song R, Lin Y, Zhang M, Liu Z,…</td><td>&quot;Cataract caused by crystallin …</td><td>&quot;Nature communications&quot;</td><td>&quot;2025 Sep 26&quot;</td></tr><tr><td>&quot;10.1038/s41467-025-63371-9&quot;</td><td>&quot;Spatially-restricted inflammat…</td><td>&quot;Fagiani F, Pedrini E, Martire …</td><td>&quot;In multiple sclerosis (MS), ch…</td><td>&quot;Nature communications&quot;</td><td>&quot;2025 Sep 26&quot;</td></tr><tr><td>&quot;10.3390/nu17183020&quot;</td><td>&quot;Systematic Review of the Effec…</td><td>&quot;Jurek JM, Zablocka-Slowinska K…</td><td>&quot;Background: Metabolic dysfunct…</td><td>&quot;Nutrients&quot;</td><td>&quot;2025 Sep 22&quot;</td></tr><tr><td>&quot;10.1016/j.cell.2025.08.039&quot;</td><td>&quot;Intrinsic heterogeneity of pri…</td><td>&quot;Hansen JN, Sun H, Kahnert K, W…</td><td>&quot;Primary cilia are critical org…</td><td>&quot;Cell&quot;</td><td>&quot;2025 Sep 25&quot;</td></tr><tr><td>&quot;10.1097/HC9.0000000000000812&quot;</td><td>&quot;iPSC-based hepatic organoids r…</td><td>&quot;Sgodda M, Gebel E, Dignas L, A…</td><td>&quot;BACKGROUND: Hereditary intrahe…</td><td>&quot;Hepatology communications&quot;</td><td>&quot;2025 Oct 1&quot;</td></tr><tr><td>&quot;10.1016/j.xcrm.2025.102372&quot;</td><td>&quot;Phenotyping obesity through a …</td><td>&quot;Jia X, Lin H, Ding Y, Hu C, Wa…</td><td>&quot;Obesity, a major public health…</td><td>&quot;Cell reports. Medicine&quot;</td><td>&quot;2025 Sep 25&quot;</td></tr><tr><td>&quot;10.1016/j.jhep.2025.09.018&quot;</td><td>&quot;PARG inhibition halts cholangi…</td><td>&quot;Yu M, Xie P, Yu Q, Zhao Y, Xu …</td><td>&quot;BACKGROUND &amp; AIMS: Cholangioca…</td><td>&quot;Journal of hepatology&quot;</td><td>&quot;2025 Sep 26&quot;</td></tr></tbody></table></div>"
      ],
      "text/plain": [
       "shape: (10, 6)\n",
       "┌────────────────┬────────────────┬────────────────┬────────────────┬────────────────┬─────────────┐\n",
       "│ DOI            ┆ Title          ┆ Authors        ┆ Abstract       ┆ Journal        ┆ Date        │\n",
       "│ ---            ┆ ---            ┆ ---            ┆ ---            ┆ ---            ┆ ---         │\n",
       "│ str            ┆ str            ┆ str            ┆ str            ┆ str            ┆ str         │\n",
       "╞════════════════╪════════════════╪════════════════╪════════════════╪════════════════╪═════════════╡\n",
       "│ 10.3390/genes1 ┆ Obesity and    ┆ Yoo LG,        ┆ Obesity is an  ┆ Genes          ┆ 2025 Aug 27 │\n",
       "│ 6091015        ┆ the Genome:    ┆ Bordelon CL,   ┆ epidemic that  ┆                ┆             │\n",
       "│                ┆ Emergi…        ┆ Mendoza D…     ┆ cu…            ┆                ┆             │\n",
       "│ 10.1038/s41557 ┆ Live-cell      ┆ Xu L, Zhang W, ┆ Ferroptosis is ┆ Nature         ┆ 2025 Sep 26 │\n",
       "│ -025-01966-x   ┆ imaging with   ┆ Sánchez Tejeda ┆ a form of cell ┆ chemistry      ┆             │\n",
       "│                ┆ fluorog…       ┆ …              ┆ …              ┆                ┆             │\n",
       "│ 10.1016/j.ebio ┆ Broadening     ┆ Mostert CM,    ┆ The 2024       ┆ EBioMedicine   ┆ 2025 Sep 25 │\n",
       "│ m.2025.105950  ┆ dementia risk  ┆ Udeh-Momoh C,  ┆ Lancet         ┆                ┆             │\n",
       "│                ┆ model…         ┆ Wink…          ┆ Commission     ┆                ┆             │\n",
       "│                ┆                ┆                ┆ Rep…           ┆                ┆             │\n",
       "│ 10.1038/s41467 ┆ Ocular         ┆ Song R, Lin Y, ┆ Cataract       ┆ Nature         ┆ 2025 Sep 26 │\n",
       "│ -025-63553-5   ┆ delivery of    ┆ Zhang M, Liu   ┆ caused by      ┆ communications ┆             │\n",
       "│                ┆ lipid nanop…   ┆ Z,…            ┆ crystallin …   ┆                ┆             │\n",
       "│ 10.1038/s41467 ┆ Spatially-rest ┆ Fagiani F,     ┆ In multiple    ┆ Nature         ┆ 2025 Sep 26 │\n",
       "│ -025-63371-9   ┆ ricted         ┆ Pedrini E,     ┆ sclerosis      ┆ communications ┆             │\n",
       "│                ┆ inflammat…     ┆ Martire …      ┆ (MS), ch…      ┆                ┆             │\n",
       "│ 10.3390/nu1718 ┆ Systematic     ┆ Jurek JM, Zabl ┆ Background:    ┆ Nutrients      ┆ 2025 Sep 22 │\n",
       "│ 3020           ┆ Review of the  ┆ ocka-Slowinska ┆ Metabolic      ┆                ┆             │\n",
       "│                ┆ Effec…         ┆ K…             ┆ dysfunct…      ┆                ┆             │\n",
       "│ 10.1016/j.cell ┆ Intrinsic      ┆ Hansen JN, Sun ┆ Primary cilia  ┆ Cell           ┆ 2025 Sep 25 │\n",
       "│ .2025.08.039   ┆ heterogeneity  ┆ H, Kahnert K,  ┆ are critical   ┆                ┆             │\n",
       "│                ┆ of pri…        ┆ W…             ┆ org…           ┆                ┆             │\n",
       "│ 10.1097/HC9.00 ┆ iPSC-based     ┆ Sgodda M,      ┆ BACKGROUND:    ┆ Hepatology     ┆ 2025 Oct 1  │\n",
       "│ 00000000000812 ┆ hepatic        ┆ Gebel E,       ┆ Hereditary     ┆ communications ┆             │\n",
       "│                ┆ organoids r…   ┆ Dignas L, A…   ┆ intrahe…       ┆                ┆             │\n",
       "│ 10.1016/j.xcrm ┆ Phenotyping    ┆ Jia X, Lin H,  ┆ Obesity, a     ┆ Cell reports.  ┆ 2025 Sep 25 │\n",
       "│ .2025.102372   ┆ obesity        ┆ Ding Y, Hu C,  ┆ major public   ┆ Medicine       ┆             │\n",
       "│                ┆ through a …    ┆ Wa…            ┆ health…        ┆                ┆             │\n",
       "│ 10.1016/j.jhep ┆ PARG           ┆ Yu M, Xie P,   ┆ BACKGROUND &   ┆ Journal of     ┆ 2025 Sep 26 │\n",
       "│ .2025.09.018   ┆ inhibition     ┆ Yu Q, Zhao Y,  ┆ AIMS:          ┆ hepatology     ┆             │\n",
       "│                ┆ halts          ┆ Xu …           ┆ Cholangioca…   ┆                ┆             │\n",
       "│                ┆ cholangi…      ┆                ┆                ┆                ┆             │\n",
       "└────────────────┴────────────────┴────────────────┴────────────────┴────────────────┴─────────────┘"
      ]
     },
     "metadata": {},
     "output_type": "display_data"
    },
    {
     "data": {
      "text/plain": [
       "(300, 6)"
      ]
     },
     "metadata": {},
     "output_type": "display_data"
    },
    {
     "data": {
      "text/html": [
       "<div><style>\n",
       ".dataframe > thead > tr,\n",
       ".dataframe > tbody > tr {\n",
       "  text-align: right;\n",
       "  white-space: pre-wrap;\n",
       "}\n",
       "</style>\n",
       "<small>shape: (1, 6)</small><table border=\"1\" class=\"dataframe\"><thead><tr><th>DOI</th><th>Title</th><th>Authors</th><th>Abstract</th><th>Journal</th><th>Date</th></tr><tr><td>u32</td><td>u32</td><td>u32</td><td>u32</td><td>u32</td><td>u32</td></tr></thead><tbody><tr><td>0</td><td>0</td><td>0</td><td>0</td><td>0</td><td>0</td></tr></tbody></table></div>"
      ],
      "text/plain": [
       "shape: (1, 6)\n",
       "┌─────┬───────┬─────────┬──────────┬─────────┬──────┐\n",
       "│ DOI ┆ Title ┆ Authors ┆ Abstract ┆ Journal ┆ Date │\n",
       "│ --- ┆ ---   ┆ ---     ┆ ---      ┆ ---     ┆ ---  │\n",
       "│ u32 ┆ u32   ┆ u32     ┆ u32      ┆ u32     ┆ u32  │\n",
       "╞═════╪═══════╪═════════╪══════════╪═════════╪══════╡\n",
       "│ 0   ┆ 0     ┆ 0       ┆ 0        ┆ 0       ┆ 0    │\n",
       "└─────┴───────┴─────────┴──────────┴─────────┴──────┘"
      ]
     },
     "metadata": {},
     "output_type": "display_data"
    }
   ],
   "source": [
    "df_pubmed = pl.read_csv(source=\"pubmed_raw_corpus.csv\", separator=\"\\t\")\n",
    "\n",
    "display(df_pubmed.sample(n=10))\n",
    "display(df_pubmed.shape)\n",
    "display(df_pubmed.null_count())"
   ]
  },
  {
   "cell_type": "code",
   "execution_count": 39,
   "id": "535d1d01",
   "metadata": {},
   "outputs": [],
   "source": [
    "def formatear_fecha(fecha: str):\n",
    "    mes_num = {\"Jan\": \"01\", \"Feb\": \"02\", \"Mar\": \"03\", \"Apr\": \"04\", \"May\": \"05\", \"Jun\": \"06\",\n",
    "           \"Jul\": \"07\", \"Aug\": \"08\", \"Sep\": \"09\", \"Oct\": \"10\", \"Nov\": \"11\", \"Dec\": \"12\"}\n",
    "    # Suponiendo que al menos el año está (YYYY MM DD, YYYY MM, YYYY)\n",
    "    # Formato original: YYYY MM DD\n",
    "    print(fecha)\n",
    "    fecha_separada = fecha.split(\" \")\n",
    "    año = fecha_separada[0]\n",
    "    mes = fecha_separada[1].split(\"-\")[-1] if fecha_separada[1].split(\"-\") else fecha_separada[1] if len(fecha_separada) >= 2 else \"\"\n",
    "    dia = fecha_separada[2] if len(fecha_separada) == 3 else \"\"\n",
    "    return (año+\"/\"+mes_num[mes]+\"/\"+dia)   "
   ]
  },
  {
   "cell_type": "code",
   "execution_count": null,
   "id": "1038c2ea",
   "metadata": {},
   "outputs": [],
   "source": []
  }
 ],
 "metadata": {
  "kernelspec": {
   "display_name": "-NLP-Practice-II---Document-similarity",
   "language": "python",
   "name": "python3"
  },
  "language_info": {
   "codemirror_mode": {
    "name": "ipython",
    "version": 3
   },
   "file_extension": ".py",
   "mimetype": "text/x-python",
   "name": "python",
   "nbconvert_exporter": "python",
   "pygments_lexer": "ipython3",
   "version": "3.13.7"
  }
 },
 "nbformat": 4,
 "nbformat_minor": 5
}
